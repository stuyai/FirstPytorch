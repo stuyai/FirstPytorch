{
 "cells": [
  {
   "cell_type": "markdown",
   "metadata": {},
   "source": [
    "# End \n",
    "\n",
    "Resulting file, meant to help if you have problems"
   ]
  },
  {
   "cell_type": "markdown",
   "metadata": {},
   "source": [
    "## Data Reading"
   ]
  },
  {
   "cell_type": "code",
   "execution_count": 1,
   "metadata": {},
   "outputs": [
    {
     "name": "stderr",
     "output_type": "stream",
     "text": [
      "/var/folders/y0/7965kh491zq1473pp9pbww280000gn/T/ipykernel_55317/1105977490.py:2: DeprecationWarning: \n",
      "Pyarrow will become a required dependency of pandas in the next major release of pandas (pandas 3.0),\n",
      "(to allow more performant data types, such as the Arrow string type, and better interoperability with other libraries)\n",
      "but was not found to be installed on your system.\n",
      "If this would cause problems for you,\n",
      "please provide us feedback at https://github.com/pandas-dev/pandas/issues/54466\n",
      "        \n",
      "  import pandas as pd\n"
     ]
    }
   ],
   "source": [
    "# inports\n",
    "import pandas as pd\n",
    "import numpy as np"
   ]
  },
  {
   "cell_type": "code",
   "execution_count": 2,
   "metadata": {},
   "outputs": [],
   "source": [
    "# reading in the data, whose csv file is in the repo\n",
    "data = pd.read_csv('concrete_data.csv')"
   ]
  },
  {
   "cell_type": "code",
   "execution_count": 3,
   "metadata": {},
   "outputs": [
    {
     "data": {
      "text/html": [
       "<div>\n",
       "<style scoped>\n",
       "    .dataframe tbody tr th:only-of-type {\n",
       "        vertical-align: middle;\n",
       "    }\n",
       "\n",
       "    .dataframe tbody tr th {\n",
       "        vertical-align: top;\n",
       "    }\n",
       "\n",
       "    .dataframe thead th {\n",
       "        text-align: right;\n",
       "    }\n",
       "</style>\n",
       "<table border=\"1\" class=\"dataframe\">\n",
       "  <thead>\n",
       "    <tr style=\"text-align: right;\">\n",
       "      <th></th>\n",
       "      <th>cement</th>\n",
       "      <th>blast_furnace_slag</th>\n",
       "      <th>fly_ash</th>\n",
       "      <th>water</th>\n",
       "      <th>superplasticizer</th>\n",
       "      <th>coarse_aggregate</th>\n",
       "      <th>fine_aggregate</th>\n",
       "      <th>age</th>\n",
       "      <th>concrete_compressive_strength</th>\n",
       "    </tr>\n",
       "  </thead>\n",
       "  <tbody>\n",
       "    <tr>\n",
       "      <th>0</th>\n",
       "      <td>540.0</td>\n",
       "      <td>0.0</td>\n",
       "      <td>0.0</td>\n",
       "      <td>162.0</td>\n",
       "      <td>2.5</td>\n",
       "      <td>1040.0</td>\n",
       "      <td>676.0</td>\n",
       "      <td>28</td>\n",
       "      <td>79.99</td>\n",
       "    </tr>\n",
       "    <tr>\n",
       "      <th>1</th>\n",
       "      <td>540.0</td>\n",
       "      <td>0.0</td>\n",
       "      <td>0.0</td>\n",
       "      <td>162.0</td>\n",
       "      <td>2.5</td>\n",
       "      <td>1055.0</td>\n",
       "      <td>676.0</td>\n",
       "      <td>28</td>\n",
       "      <td>61.89</td>\n",
       "    </tr>\n",
       "    <tr>\n",
       "      <th>2</th>\n",
       "      <td>332.5</td>\n",
       "      <td>142.5</td>\n",
       "      <td>0.0</td>\n",
       "      <td>228.0</td>\n",
       "      <td>0.0</td>\n",
       "      <td>932.0</td>\n",
       "      <td>594.0</td>\n",
       "      <td>270</td>\n",
       "      <td>40.27</td>\n",
       "    </tr>\n",
       "    <tr>\n",
       "      <th>3</th>\n",
       "      <td>332.5</td>\n",
       "      <td>142.5</td>\n",
       "      <td>0.0</td>\n",
       "      <td>228.0</td>\n",
       "      <td>0.0</td>\n",
       "      <td>932.0</td>\n",
       "      <td>594.0</td>\n",
       "      <td>365</td>\n",
       "      <td>41.05</td>\n",
       "    </tr>\n",
       "    <tr>\n",
       "      <th>4</th>\n",
       "      <td>198.6</td>\n",
       "      <td>132.4</td>\n",
       "      <td>0.0</td>\n",
       "      <td>192.0</td>\n",
       "      <td>0.0</td>\n",
       "      <td>978.4</td>\n",
       "      <td>825.5</td>\n",
       "      <td>360</td>\n",
       "      <td>44.30</td>\n",
       "    </tr>\n",
       "  </tbody>\n",
       "</table>\n",
       "</div>"
      ],
      "text/plain": [
       "   cement  blast_furnace_slag  fly_ash  water  superplasticizer  \\\n",
       "0   540.0                 0.0      0.0  162.0               2.5   \n",
       "1   540.0                 0.0      0.0  162.0               2.5   \n",
       "2   332.5               142.5      0.0  228.0               0.0   \n",
       "3   332.5               142.5      0.0  228.0               0.0   \n",
       "4   198.6               132.4      0.0  192.0               0.0   \n",
       "\n",
       "   coarse_aggregate  fine_aggregate   age  concrete_compressive_strength  \n",
       "0            1040.0            676.0   28                          79.99  \n",
       "1            1055.0            676.0   28                          61.89  \n",
       "2             932.0            594.0  270                          40.27  \n",
       "3             932.0            594.0  365                          41.05  \n",
       "4             978.4            825.5  360                          44.30  "
      ]
     },
     "execution_count": 3,
     "metadata": {},
     "output_type": "execute_result"
    }
   ],
   "source": [
    "#getting the first 5 rows of the data\n",
    "data.head()"
   ]
  },
  {
   "cell_type": "code",
   "execution_count": 4,
   "metadata": {},
   "outputs": [
    {
     "data": {
      "text/html": [
       "<div>\n",
       "<style scoped>\n",
       "    .dataframe tbody tr th:only-of-type {\n",
       "        vertical-align: middle;\n",
       "    }\n",
       "\n",
       "    .dataframe tbody tr th {\n",
       "        vertical-align: top;\n",
       "    }\n",
       "\n",
       "    .dataframe thead th {\n",
       "        text-align: right;\n",
       "    }\n",
       "</style>\n",
       "<table border=\"1\" class=\"dataframe\">\n",
       "  <thead>\n",
       "    <tr style=\"text-align: right;\">\n",
       "      <th></th>\n",
       "      <th>cement</th>\n",
       "      <th>blast_furnace_slag</th>\n",
       "      <th>fly_ash</th>\n",
       "      <th>water</th>\n",
       "      <th>superplasticizer</th>\n",
       "      <th>coarse_aggregate</th>\n",
       "      <th>fine_aggregate</th>\n",
       "      <th>age</th>\n",
       "      <th>concrete_compressive_strength</th>\n",
       "    </tr>\n",
       "  </thead>\n",
       "  <tbody>\n",
       "    <tr>\n",
       "      <th>count</th>\n",
       "      <td>1030.000000</td>\n",
       "      <td>1030.000000</td>\n",
       "      <td>1030.000000</td>\n",
       "      <td>1030.000000</td>\n",
       "      <td>1030.000000</td>\n",
       "      <td>1030.000000</td>\n",
       "      <td>1030.000000</td>\n",
       "      <td>1030.000000</td>\n",
       "      <td>1030.000000</td>\n",
       "    </tr>\n",
       "    <tr>\n",
       "      <th>mean</th>\n",
       "      <td>281.167864</td>\n",
       "      <td>73.895825</td>\n",
       "      <td>54.188350</td>\n",
       "      <td>181.567282</td>\n",
       "      <td>6.204660</td>\n",
       "      <td>972.918932</td>\n",
       "      <td>773.580485</td>\n",
       "      <td>45.662136</td>\n",
       "      <td>35.817961</td>\n",
       "    </tr>\n",
       "    <tr>\n",
       "      <th>std</th>\n",
       "      <td>104.506364</td>\n",
       "      <td>86.279342</td>\n",
       "      <td>63.997004</td>\n",
       "      <td>21.354219</td>\n",
       "      <td>5.973841</td>\n",
       "      <td>77.753954</td>\n",
       "      <td>80.175980</td>\n",
       "      <td>63.169912</td>\n",
       "      <td>16.705742</td>\n",
       "    </tr>\n",
       "    <tr>\n",
       "      <th>min</th>\n",
       "      <td>102.000000</td>\n",
       "      <td>0.000000</td>\n",
       "      <td>0.000000</td>\n",
       "      <td>121.800000</td>\n",
       "      <td>0.000000</td>\n",
       "      <td>801.000000</td>\n",
       "      <td>594.000000</td>\n",
       "      <td>1.000000</td>\n",
       "      <td>2.330000</td>\n",
       "    </tr>\n",
       "    <tr>\n",
       "      <th>25%</th>\n",
       "      <td>192.375000</td>\n",
       "      <td>0.000000</td>\n",
       "      <td>0.000000</td>\n",
       "      <td>164.900000</td>\n",
       "      <td>0.000000</td>\n",
       "      <td>932.000000</td>\n",
       "      <td>730.950000</td>\n",
       "      <td>7.000000</td>\n",
       "      <td>23.710000</td>\n",
       "    </tr>\n",
       "    <tr>\n",
       "      <th>50%</th>\n",
       "      <td>272.900000</td>\n",
       "      <td>22.000000</td>\n",
       "      <td>0.000000</td>\n",
       "      <td>185.000000</td>\n",
       "      <td>6.400000</td>\n",
       "      <td>968.000000</td>\n",
       "      <td>779.500000</td>\n",
       "      <td>28.000000</td>\n",
       "      <td>34.445000</td>\n",
       "    </tr>\n",
       "    <tr>\n",
       "      <th>75%</th>\n",
       "      <td>350.000000</td>\n",
       "      <td>142.950000</td>\n",
       "      <td>118.300000</td>\n",
       "      <td>192.000000</td>\n",
       "      <td>10.200000</td>\n",
       "      <td>1029.400000</td>\n",
       "      <td>824.000000</td>\n",
       "      <td>56.000000</td>\n",
       "      <td>46.135000</td>\n",
       "    </tr>\n",
       "    <tr>\n",
       "      <th>max</th>\n",
       "      <td>540.000000</td>\n",
       "      <td>359.400000</td>\n",
       "      <td>200.100000</td>\n",
       "      <td>247.000000</td>\n",
       "      <td>32.200000</td>\n",
       "      <td>1145.000000</td>\n",
       "      <td>992.600000</td>\n",
       "      <td>365.000000</td>\n",
       "      <td>82.600000</td>\n",
       "    </tr>\n",
       "  </tbody>\n",
       "</table>\n",
       "</div>"
      ],
      "text/plain": [
       "            cement  blast_furnace_slag      fly_ash        water  \\\n",
       "count  1030.000000         1030.000000  1030.000000  1030.000000   \n",
       "mean    281.167864           73.895825    54.188350   181.567282   \n",
       "std     104.506364           86.279342    63.997004    21.354219   \n",
       "min     102.000000            0.000000     0.000000   121.800000   \n",
       "25%     192.375000            0.000000     0.000000   164.900000   \n",
       "50%     272.900000           22.000000     0.000000   185.000000   \n",
       "75%     350.000000          142.950000   118.300000   192.000000   \n",
       "max     540.000000          359.400000   200.100000   247.000000   \n",
       "\n",
       "       superplasticizer  coarse_aggregate  fine_aggregate           age  \\\n",
       "count       1030.000000       1030.000000      1030.000000  1030.000000   \n",
       "mean           6.204660        972.918932       773.580485    45.662136   \n",
       "std            5.973841         77.753954        80.175980    63.169912   \n",
       "min            0.000000        801.000000       594.000000     1.000000   \n",
       "25%            0.000000        932.000000       730.950000     7.000000   \n",
       "50%            6.400000        968.000000       779.500000    28.000000   \n",
       "75%           10.200000       1029.400000       824.000000    56.000000   \n",
       "max           32.200000       1145.000000       992.600000   365.000000   \n",
       "\n",
       "       concrete_compressive_strength  \n",
       "count                    1030.000000  \n",
       "mean                       35.817961  \n",
       "std                        16.705742  \n",
       "min                         2.330000  \n",
       "25%                        23.710000  \n",
       "50%                        34.445000  \n",
       "75%                        46.135000  \n",
       "max                        82.600000  "
      ]
     },
     "execution_count": 4,
     "metadata": {},
     "output_type": "execute_result"
    }
   ],
   "source": [
    "#getting a description of the data\n",
    "data.describe()"
   ]
  },
  {
   "cell_type": "markdown",
   "metadata": {},
   "source": [
    "## Feature Engineering"
   ]
  },
  {
   "cell_type": "code",
   "execution_count": 5,
   "metadata": {},
   "outputs": [
    {
     "data": {
      "text/plain": [
       "Index(['cement', 'blast_furnace_slag', 'fly_ash', 'water', 'superplasticizer',\n",
       "       'coarse_aggregate', 'fine_aggregate ', 'age',\n",
       "       'concrete_compressive_strength'],\n",
       "      dtype='object')"
      ]
     },
     "execution_count": 5,
     "metadata": {},
     "output_type": "execute_result"
    }
   ],
   "source": [
    "#getting the columns of the data\n",
    "data.columns"
   ]
  },
  {
   "cell_type": "markdown",
   "metadata": {},
   "source": [
    "Looking at the data, the columns represent the amounts that are used, and the specfic age of the concrete. Let's convert the elements for the first 7 rows into percent values.\n",
    "\n",
    "Of course, we're assuming that those values are all that makes up the concrete, but I hope that's correct, or at least <font color=\"red\"> mostly </font>."
   ]
  },
  {
   "cell_type": "code",
   "execution_count": 6,
   "metadata": {},
   "outputs": [
    {
     "name": "stdout",
     "output_type": "stream",
     "text": [
      "0       1744.5\n",
      "1       1759.5\n",
      "2       1635.0\n",
      "3       1635.0\n",
      "4       1501.4\n",
      "         ...  \n",
      "1025    1541.3\n",
      "1026    1462.1\n",
      "1027    1487.7\n",
      "1028    1522.3\n",
      "1029    1513.4\n",
      "Length: 1030, dtype: float64\n"
     ]
    }
   ],
   "source": [
    "#finding the sum of the first six columns (the columns that matter here)\n",
    "sum = data.iloc[:, 0:6].sum(axis=1)\n",
    "print(sum)"
   ]
  },
  {
   "cell_type": "code",
   "execution_count": 7,
   "metadata": {},
   "outputs": [],
   "source": [
    "for c_index in range(7): # for evert element \n",
    "    data.iloc[:, c_index] = (data.iloc[:, c_index] / sum) * 100"
   ]
  },
  {
   "cell_type": "code",
   "execution_count": 8,
   "metadata": {},
   "outputs": [
    {
     "data": {
      "text/html": [
       "<div>\n",
       "<style scoped>\n",
       "    .dataframe tbody tr th:only-of-type {\n",
       "        vertical-align: middle;\n",
       "    }\n",
       "\n",
       "    .dataframe tbody tr th {\n",
       "        vertical-align: top;\n",
       "    }\n",
       "\n",
       "    .dataframe thead th {\n",
       "        text-align: right;\n",
       "    }\n",
       "</style>\n",
       "<table border=\"1\" class=\"dataframe\">\n",
       "  <thead>\n",
       "    <tr style=\"text-align: right;\">\n",
       "      <th></th>\n",
       "      <th>cement</th>\n",
       "      <th>blast_furnace_slag</th>\n",
       "      <th>fly_ash</th>\n",
       "      <th>water</th>\n",
       "      <th>superplasticizer</th>\n",
       "      <th>coarse_aggregate</th>\n",
       "      <th>fine_aggregate</th>\n",
       "      <th>age</th>\n",
       "      <th>concrete_compressive_strength</th>\n",
       "    </tr>\n",
       "  </thead>\n",
       "  <tbody>\n",
       "    <tr>\n",
       "      <th>0</th>\n",
       "      <td>30.954428</td>\n",
       "      <td>0.000000</td>\n",
       "      <td>0.000000</td>\n",
       "      <td>9.286328</td>\n",
       "      <td>0.143308</td>\n",
       "      <td>59.615936</td>\n",
       "      <td>38.750358</td>\n",
       "      <td>28</td>\n",
       "      <td>79.99</td>\n",
       "    </tr>\n",
       "    <tr>\n",
       "      <th>1</th>\n",
       "      <td>30.690537</td>\n",
       "      <td>0.000000</td>\n",
       "      <td>0.000000</td>\n",
       "      <td>9.207161</td>\n",
       "      <td>0.142086</td>\n",
       "      <td>59.960216</td>\n",
       "      <td>38.420006</td>\n",
       "      <td>28</td>\n",
       "      <td>61.89</td>\n",
       "    </tr>\n",
       "    <tr>\n",
       "      <th>2</th>\n",
       "      <td>20.336391</td>\n",
       "      <td>8.715596</td>\n",
       "      <td>0.000000</td>\n",
       "      <td>13.944954</td>\n",
       "      <td>0.000000</td>\n",
       "      <td>57.003058</td>\n",
       "      <td>36.330275</td>\n",
       "      <td>270</td>\n",
       "      <td>40.27</td>\n",
       "    </tr>\n",
       "    <tr>\n",
       "      <th>3</th>\n",
       "      <td>20.336391</td>\n",
       "      <td>8.715596</td>\n",
       "      <td>0.000000</td>\n",
       "      <td>13.944954</td>\n",
       "      <td>0.000000</td>\n",
       "      <td>57.003058</td>\n",
       "      <td>36.330275</td>\n",
       "      <td>365</td>\n",
       "      <td>41.05</td>\n",
       "    </tr>\n",
       "    <tr>\n",
       "      <th>4</th>\n",
       "      <td>13.227654</td>\n",
       "      <td>8.818436</td>\n",
       "      <td>0.000000</td>\n",
       "      <td>12.788064</td>\n",
       "      <td>0.000000</td>\n",
       "      <td>65.165845</td>\n",
       "      <td>54.982017</td>\n",
       "      <td>360</td>\n",
       "      <td>44.30</td>\n",
       "    </tr>\n",
       "    <tr>\n",
       "      <th>...</th>\n",
       "      <td>...</td>\n",
       "      <td>...</td>\n",
       "      <td>...</td>\n",
       "      <td>...</td>\n",
       "      <td>...</td>\n",
       "      <td>...</td>\n",
       "      <td>...</td>\n",
       "      <td>...</td>\n",
       "      <td>...</td>\n",
       "    </tr>\n",
       "    <tr>\n",
       "      <th>1025</th>\n",
       "      <td>17.932914</td>\n",
       "      <td>7.526114</td>\n",
       "      <td>5.858691</td>\n",
       "      <td>11.652501</td>\n",
       "      <td>0.577435</td>\n",
       "      <td>56.452345</td>\n",
       "      <td>49.847531</td>\n",
       "      <td>28</td>\n",
       "      <td>44.28</td>\n",
       "    </tr>\n",
       "    <tr>\n",
       "      <th>1026</th>\n",
       "      <td>22.036796</td>\n",
       "      <td>0.000000</td>\n",
       "      <td>7.906436</td>\n",
       "      <td>13.405376</td>\n",
       "      <td>0.711306</td>\n",
       "      <td>55.940086</td>\n",
       "      <td>55.632310</td>\n",
       "      <td>28</td>\n",
       "      <td>31.18</td>\n",
       "    </tr>\n",
       "    <tr>\n",
       "      <th>1027</th>\n",
       "      <td>9.981851</td>\n",
       "      <td>9.370169</td>\n",
       "      <td>7.299859</td>\n",
       "      <td>12.952880</td>\n",
       "      <td>0.410029</td>\n",
       "      <td>59.985212</td>\n",
       "      <td>52.429925</td>\n",
       "      <td>28</td>\n",
       "      <td>23.70</td>\n",
       "    </tr>\n",
       "    <tr>\n",
       "      <th>1028</th>\n",
       "      <td>10.451291</td>\n",
       "      <td>12.264337</td>\n",
       "      <td>0.000000</td>\n",
       "      <td>11.535177</td>\n",
       "      <td>0.742298</td>\n",
       "      <td>65.006897</td>\n",
       "      <td>51.822900</td>\n",
       "      <td>28</td>\n",
       "      <td>32.77</td>\n",
       "    </tr>\n",
       "    <tr>\n",
       "      <th>1029</th>\n",
       "      <td>17.239329</td>\n",
       "      <td>6.640677</td>\n",
       "      <td>5.173781</td>\n",
       "      <td>13.254923</td>\n",
       "      <td>0.568257</td>\n",
       "      <td>57.123034</td>\n",
       "      <td>50.317167</td>\n",
       "      <td>28</td>\n",
       "      <td>32.40</td>\n",
       "    </tr>\n",
       "  </tbody>\n",
       "</table>\n",
       "<p>1030 rows × 9 columns</p>\n",
       "</div>"
      ],
      "text/plain": [
       "         cement  blast_furnace_slag   fly_ash      water  superplasticizer  \\\n",
       "0     30.954428            0.000000  0.000000   9.286328          0.143308   \n",
       "1     30.690537            0.000000  0.000000   9.207161          0.142086   \n",
       "2     20.336391            8.715596  0.000000  13.944954          0.000000   \n",
       "3     20.336391            8.715596  0.000000  13.944954          0.000000   \n",
       "4     13.227654            8.818436  0.000000  12.788064          0.000000   \n",
       "...         ...                 ...       ...        ...               ...   \n",
       "1025  17.932914            7.526114  5.858691  11.652501          0.577435   \n",
       "1026  22.036796            0.000000  7.906436  13.405376          0.711306   \n",
       "1027   9.981851            9.370169  7.299859  12.952880          0.410029   \n",
       "1028  10.451291           12.264337  0.000000  11.535177          0.742298   \n",
       "1029  17.239329            6.640677  5.173781  13.254923          0.568257   \n",
       "\n",
       "      coarse_aggregate  fine_aggregate   age  concrete_compressive_strength  \n",
       "0            59.615936        38.750358   28                          79.99  \n",
       "1            59.960216        38.420006   28                          61.89  \n",
       "2            57.003058        36.330275  270                          40.27  \n",
       "3            57.003058        36.330275  365                          41.05  \n",
       "4            65.165845        54.982017  360                          44.30  \n",
       "...                ...              ...  ...                            ...  \n",
       "1025         56.452345        49.847531   28                          44.28  \n",
       "1026         55.940086        55.632310   28                          31.18  \n",
       "1027         59.985212        52.429925   28                          23.70  \n",
       "1028         65.006897        51.822900   28                          32.77  \n",
       "1029         57.123034        50.317167   28                          32.40  \n",
       "\n",
       "[1030 rows x 9 columns]"
      ]
     },
     "execution_count": 8,
     "metadata": {},
     "output_type": "execute_result"
    }
   ],
   "source": [
    "data"
   ]
  },
  {
   "cell_type": "code",
   "execution_count": 9,
   "metadata": {},
   "outputs": [
    {
     "name": "stdout",
     "output_type": "stream",
     "text": [
      "0       100.0\n",
      "1       100.0\n",
      "2       100.0\n",
      "3       100.0\n",
      "4       100.0\n",
      "        ...  \n",
      "1025    100.0\n",
      "1026    100.0\n",
      "1027    100.0\n",
      "1028    100.0\n",
      "1029    100.0\n",
      "Length: 1030, dtype: float64\n"
     ]
    }
   ],
   "source": [
    "# let's look at the sum now\n",
    "sum = data.iloc[:, 0:6].sum(axis=1)\n",
    "print(sum)"
   ]
  },
  {
   "cell_type": "markdown",
   "metadata": {},
   "source": [
    "## Model Training\n",
    "\n",
    "Now for the model, let's start building it up. The first thing is the orient the data in such a way that it could be converted from a numpy array to a pytorch tensory. Unfortunately, the data has to be transformed"
   ]
  },
  {
   "cell_type": "code",
   "execution_count": 10,
   "metadata": {},
   "outputs": [
    {
     "data": {
      "text/plain": [
       "(         cement  blast_furnace_slag   fly_ash      water  superplasticizer  \\\n",
       " 0     30.954428            0.000000  0.000000   9.286328          0.143308   \n",
       " 1     30.690537            0.000000  0.000000   9.207161          0.142086   \n",
       " 2     20.336391            8.715596  0.000000  13.944954          0.000000   \n",
       " 3     20.336391            8.715596  0.000000  13.944954          0.000000   \n",
       " 4     13.227654            8.818436  0.000000  12.788064          0.000000   \n",
       " ...         ...                 ...       ...        ...               ...   \n",
       " 1025  17.932914            7.526114  5.858691  11.652501          0.577435   \n",
       " 1026  22.036796            0.000000  7.906436  13.405376          0.711306   \n",
       " 1027   9.981851            9.370169  7.299859  12.952880          0.410029   \n",
       " 1028  10.451291           12.264337  0.000000  11.535177          0.742298   \n",
       " 1029  17.239329            6.640677  5.173781  13.254923          0.568257   \n",
       " \n",
       "       coarse_aggregate  fine_aggregate   age  \n",
       " 0            59.615936        38.750358   28  \n",
       " 1            59.960216        38.420006   28  \n",
       " 2            57.003058        36.330275  270  \n",
       " 3            57.003058        36.330275  365  \n",
       " 4            65.165845        54.982017  360  \n",
       " ...                ...              ...  ...  \n",
       " 1025         56.452345        49.847531   28  \n",
       " 1026         55.940086        55.632310   28  \n",
       " 1027         59.985212        52.429925   28  \n",
       " 1028         65.006897        51.822900   28  \n",
       " 1029         57.123034        50.317167   28  \n",
       " \n",
       " [1030 rows x 8 columns],\n",
       " 0       79.99\n",
       " 1       61.89\n",
       " 2       40.27\n",
       " 3       41.05\n",
       " 4       44.30\n",
       "         ...  \n",
       " 1025    44.28\n",
       " 1026    31.18\n",
       " 1027    23.70\n",
       " 1028    32.77\n",
       " 1029    32.40\n",
       " Name: concrete_compressive_strength, Length: 1030, dtype: float64)"
      ]
     },
     "execution_count": 10,
     "metadata": {},
     "output_type": "execute_result"
    }
   ],
   "source": [
    "#let's first get the columns\n",
    "\n",
    "# REMEMBER, we're going to have to use the first 7 columns to predict the last one\n",
    "data_cols = data.iloc[:, 0:8]\n",
    "y = data.iloc[:, 8]\n",
    "data_cols, y\n"
   ]
  },
  {
   "cell_type": "code",
   "execution_count": 11,
   "metadata": {},
   "outputs": [],
   "source": [
    "#now we have the data all split up, let's reshape them\n",
    "stacked_data_cols = np.stack([data_cols[col] for col in   data_cols.columns], axis=1)\n",
    "stacked_y = np.stack([y], axis=1)"
   ]
  },
  {
   "cell_type": "code",
   "execution_count": 12,
   "metadata": {},
   "outputs": [],
   "source": [
    "# converting this to a tensor object\n",
    "import torch\n",
    "\n",
    "train_data = torch.tensor(stacked_data_cols, dtype=torch.float32)\n",
    "target = torch.tensor(stacked_y, dtype=torch.float32)"
   ]
  },
  {
   "cell_type": "code",
   "execution_count": 13,
   "metadata": {},
   "outputs": [
    {
     "data": {
      "text/plain": [
       "(tensor([[ 30.9544,   0.0000,   0.0000,  ...,  59.6159,  38.7504,  28.0000],\n",
       "         [ 30.6905,   0.0000,   0.0000,  ...,  59.9602,  38.4200,  28.0000],\n",
       "         [ 20.3364,   8.7156,   0.0000,  ...,  57.0031,  36.3303, 270.0000],\n",
       "         ...,\n",
       "         [  9.9819,   9.3702,   7.2999,  ...,  59.9852,  52.4299,  28.0000],\n",
       "         [ 10.4513,  12.2643,   0.0000,  ...,  65.0069,  51.8229,  28.0000],\n",
       "         [ 17.2393,   6.6407,   5.1738,  ...,  57.1230,  50.3172,  28.0000]]),\n",
       " tensor([[79.9900],\n",
       "         [61.8900],\n",
       "         [40.2700],\n",
       "         ...,\n",
       "         [23.7000],\n",
       "         [32.7700],\n",
       "         [32.4000]]))"
      ]
     },
     "execution_count": 13,
     "metadata": {},
     "output_type": "execute_result"
    }
   ],
   "source": [
    "train_data, target"
   ]
  },
  {
   "cell_type": "code",
   "execution_count": 14,
   "metadata": {},
   "outputs": [],
   "source": [
    "# creating the model\n",
    "from torch import nn\n",
    "\n",
    "\n",
    "class CementModel(nn.Module):\n",
    "    # instatiating the model\n",
    "    def __init__(self, layers, dropout=0.25, in_szes=8, out_szes=1):\n",
    "        super().__init__()  # in order to use the methods of the parent class\n",
    "        layer_list = [] # allows for variable layers\n",
    "        \n",
    "        # batch normalization, recentering the data and making the model more stable\n",
    "        self.bn = nn.BatchNorm1d(in_szes)\n",
    "        i = in_szes\n",
    "        \n",
    "        \n",
    "        for l in layers:\n",
    "            layer_list.append(nn.Linear(i, l)) # linear layer\n",
    "            layer_list.append(nn.ReLU()) # relu layer (activation)\n",
    "            layer_list.append(nn.Dropout(dropout)) # dropout layer\n",
    "            layer_list.append(nn.BatchNorm1d(l)) # more batch normalization\n",
    "            i = l\n",
    "            \n",
    "        layer_list.append(nn.Linear(layers[-1], out_szes)) # adding an output layer to end \n",
    "        self.layers = nn.Sequential(*layer_list) # creating the model\n",
    "        \n",
    "    def forward(self, x):\n",
    "        x = self.bn(x) # applying batch normalization\n",
    "        return self.layers(x)\n",
    "        "
   ]
  },
  {
   "cell_type": "markdown",
   "metadata": {},
   "source": [
    "## Testing and Training the Model"
   ]
  },
  {
   "cell_type": "code",
   "execution_count": 15,
   "metadata": {},
   "outputs": [],
   "source": [
    "# creating a model\n",
    "model = CementModel([100, 256, 512, 256, 100])"
   ]
  },
  {
   "cell_type": "code",
   "execution_count": 16,
   "metadata": {},
   "outputs": [],
   "source": [
    "# having the optimizer and the criterion\n",
    "criterion = nn.MSELoss()\n",
    "optimizer = torch.optim.Adam(model.parameters(), lr=0.01)"
   ]
  },
  {
   "cell_type": "code",
   "execution_count": 17,
   "metadata": {},
   "outputs": [],
   "source": [
    "import math # for the math\n",
    "\n",
    "batch_size = math.floor(data.shape[0] * .8) # 80% of the data\n",
    "test_size = data.shape[0] - batch_size # the rest of the data"
   ]
  },
  {
   "cell_type": "code",
   "execution_count": 18,
   "metadata": {},
   "outputs": [],
   "source": [
    "# splitting the data\n",
    "train = train_data[:batch_size] # splitting the training data into the first 80%\n",
    "train_y = target[:batch_size] # splitting the target data into the first 80%\n",
    "test = train_data[batch_size:] # splitting the training data into the last 20%\n",
    "test_y = target[batch_size:] # splitting the target data into the last 20%"
   ]
  },
  {
   "cell_type": "code",
   "execution_count": 19,
   "metadata": {},
   "outputs": [
    {
     "data": {
      "text/plain": [
       "torch.Size([824, 8])"
      ]
     },
     "execution_count": 19,
     "metadata": {},
     "output_type": "execute_result"
    }
   ],
   "source": [
    "train.shape"
   ]
  },
  {
   "cell_type": "code",
   "execution_count": 20,
   "metadata": {},
   "outputs": [
    {
     "name": "stdout",
     "output_type": "stream",
     "text": [
      "Epoch 0: loss 40.56626764, testing loss 35.12367414\n",
      "Epoch 100: loss 4.75698219, testing loss 16.13515513\n",
      "Epoch 200: loss 4.07337950, testing loss 17.59892086\n",
      "Epoch 300: loss 3.75105017, testing loss 17.55025395\n",
      "Epoch 400: loss 3.50271773, testing loss 18.32785193\n",
      "Epoch 500: loss 3.45633917, testing loss 17.82365502\n",
      "Epoch 600: loss 3.29827996, testing loss 18.38876637\n",
      "Epoch 700: loss 3.17556518, testing loss 17.60129983\n",
      "Epoch 800: loss 3.10705188, testing loss 17.28043853\n",
      "Epoch 900: loss 3.05154218, testing loss 17.81295315\n",
      "Duration: --- 17.641129970550537 seconds ---78792336\n"
     ]
    }
   ],
   "source": [
    "import time\n",
    "import math\n",
    "\n",
    "start = (\n",
    "    time.time()\n",
    ")  # starting the timer - we want to get the total time it takes to train the model\n",
    "losses = []  # to keep track of the losses\n",
    "test_losses = []  # to keep track of the test losses\n",
    "epochs = 1000  # the number of epochs\n",
    "\n",
    "# loop through every element in the epochs\n",
    "for epoch in range(epochs):\n",
    "    y_pred = model(train)  # get the predictions of the model\n",
    "    loss = criterion(y_pred, train_y)  # get the loss\n",
    "\n",
    "    with torch.no_grad():  # getting the testing loss for the test data\n",
    "        test_loss = criterion(model(test), test_y)\n",
    "        test_losses.append(test_loss.detach().numpy())\n",
    "    losses.append(loss.detach().numpy())\n",
    "\n",
    "    if epoch % 100 != 0:  # setting a sus testing thing\n",
    "        print(\n",
    "            (\n",
    "                f\"Epoch {epoch}: loss {math.sqrt(loss):.8f}, testing loss {math.sqrt(test_losses[-1]):.8f}\"\n",
    "            ),\n",
    "            end=\"\\r\",\n",
    "        )\n",
    "    else:\n",
    "        print(\n",
    "            (\n",
    "                f\"Epoch {epoch}: loss {math.sqrt(loss):.8f}, testing loss {math.sqrt(test_losses[-1]):.8f}\"\n",
    "            )\n",
    "        )\n",
    "\n",
    "    # performing the backprop\n",
    "    optimizer.zero_grad()  # reset the gradients\n",
    "    loss.backward()  # backprop\n",
    "    optimizer.step()  # update the weights\n",
    "\n",
    "end = time.time() #getting the end time\n",
    "\n",
    "print(\"Duration: --- %s seconds ---\" % (end - start))"
   ]
  },
  {
   "cell_type": "markdown",
   "metadata": {},
   "source": [
    "## Modeling the Losses"
   ]
  },
  {
   "cell_type": "code",
   "execution_count": 21,
   "metadata": {},
   "outputs": [
    {
     "data": {
      "image/png": "[encoded data removed]",
      "text/plain": [
       "<Figure size 640x480 with 1 Axes>"
      ]
     },
     "metadata": {},
     "output_type": "display_data"
    }
   ],
   "source": [
    "from matplotlib import pyplot as plt\n",
    "plt.plot(range(epochs), losses)\n",
    "plt.ylabel('Cross Entropy Loss')\n",
    "plt.xlabel('epoch');"
   ]
  },
  {
   "cell_type": "code",
   "execution_count": 22,
   "metadata": {},
   "outputs": [
    {
     "name": "stdout",
     "output_type": "stream",
     "text": [
      "134.7896\n"
     ]
    },
    {
     "name": "stderr",
     "output_type": "stream",
     "text": [
      "/var/folders/y0/7965kh491zq1473pp9pbww280000gn/T/ipykernel_55317/1439461448.py:14: UserWarning: Creating a tensor from a list of numpy.ndarrays is extremely slow. Please consider converting the list to a single numpy.ndarray with numpy.array() before converting to a tensor. (Triggered internally at /Users/runner/work/pytorch/pytorch/pytorch/torch/csrc/utils/tensor_new.cpp:278.)\n",
      "  print(model(torch.tensor([inputs], dtype = torch.float32)).detach().numpy()[0][0])\n"
     ]
    }
   ],
   "source": [
    "# testing it out for ourselves\n",
    "model.eval() # setting the model to evaluation mode\n",
    "\n",
    "# making sure that no gradients accumulate\n",
    "with torch.no_grad():\n",
    "    \n",
    "    inputs = np.array([])\n",
    "    for column in data.columns[:8]: \n",
    "        item = input(f\"What is your test value for: {column} ? \\n\")\n",
    "        inputs = np.append(inputs, int(item))\n",
    "        \n",
    "        \n",
    "    inputs = inputs.reshape(-1)\n",
    "    print(model(torch.tensor([inputs], dtype = torch.float32)).detach().numpy()[0][0])\n",
    "        "
   ]
  },
  {
   "cell_type": "markdown",
   "metadata": {},
   "source": [
    "# We're Done"
   ]
  },
  {
   "cell_type": "markdown",
   "metadata": {},
   "source": []
  }
 ],
 "metadata": {
  "kernelspec": {
   "display_name": "venv",
   "language": "python",
   "name": "python3"
  },
  "language_info": {
   "codemirror_mode": {
    "name": "ipython",
    "version": 3
   },
   "file_extension": ".py",
   "mimetype": "text/x-python",
   "name": "python",
   "nbconvert_exporter": "python",
   "pygments_lexer": "ipython3",
   "version": "3.9.18"
  }
 },
 "nbformat": 4,
 "nbformat_minor": 2
}
